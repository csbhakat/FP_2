{
 "cells": [
  {
   "cell_type": "code",
   "execution_count": 1,
   "metadata": {
    "colab": {
     "base_uri": "https://localhost:8080/",
     "height": 51
    },
    "colab_type": "code",
    "id": "nayjN8Vrodod",
    "outputId": "a07fee49-de2d-4166-9ff5-28eb70e9e537"
   },
   "outputs": [],
   "source": [
    "import pandas as pd\n",
    "import numpy as np\n",
    "from nltk.corpus import stopwords\n",
    "import nltk\n",
    "import re\n",
    "from sklearn.feature_extraction.text import TfidfVectorizer \n",
    "from sklearn.metrics.pairwise import cosine_similarity\n",
    "from sklearn.metrics.pairwise import euclidean_distances"
   ]
  },
  {
   "cell_type": "code",
   "execution_count": 2,
   "metadata": {},
   "outputs": [],
   "source": [
    "#Import the resume from PDF to strings. Change the pdf file name to test it.\n",
    "\n",
    "from tika import parser # pip install tika\n",
    "\n",
    "resumes=['dummy','Zehai (Steve)Wang','MILI SHAH','Jay Bakshi','Aman','Raman','PM_Resume']\n",
    "\n",
    "\n",
    "raw_jd = parser.from_file('JD.pdf')\n",
    "jd=raw_jd['content']\n",
    "\n",
    "raw_resume_ds1 = parser.from_file('Zehai (Steve)Wang.pdf')\n",
    "resume1=raw_resume_ds1['content']\n",
    "\n",
    "raw_resume_ds2 = parser.from_file('MILI SHAH.pdf')\n",
    "resume2=raw_resume_ds2['content']\n",
    "\n",
    "raw_resume_ds3 = parser.from_file('Jay Bakshi.pdf')\n",
    "resume3=raw_resume_ds3['content']\n",
    "\n",
    "raw_resume_ds4 = parser.from_file('Aman.pdf')\n",
    "resume4=raw_resume_ds4['content']\n",
    "\n",
    "raw_resume_ds4 = parser.from_file('Raman.pdf')\n",
    "resume5=raw_resume_ds4['content']\n",
    "\n",
    "raw_resume_PM = parser.from_file('PM.pdf')\n",
    "resume_PM=raw_resume_PM['content']"
   ]
  },
  {
   "cell_type": "code",
   "execution_count": 3,
   "metadata": {},
   "outputs": [],
   "source": [
    "documents=[jd,resume1,resume2,resume3,resume4,resume5,resume_PM]"
   ]
  },
  {
   "cell_type": "code",
   "execution_count": 4,
   "metadata": {
    "colab": {},
    "colab_type": "code",
    "id": "hZNxg33Yodok"
   },
   "outputs": [],
   "source": [
    "pd.set_option('display.max_colwidth', 0)\n",
    "pd.set_option('display.max_columns', 0)"
   ]
  },
  {
   "cell_type": "code",
   "execution_count": 5,
   "metadata": {
    "colab": {},
    "colab_type": "code",
    "id": "4915Wqjiodon"
   },
   "outputs": [],
   "source": [
    "documents_df=pd.DataFrame(documents,columns=['documents'])"
   ]
  },
  {
   "cell_type": "markdown",
   "metadata": {
    "colab_type": "text",
    "id": "obVfuYPFodop"
   },
   "source": [
    "### Corpus Dataframe"
   ]
  },
  {
   "cell_type": "code",
   "execution_count": 6,
   "metadata": {
    "colab": {},
    "colab_type": "code",
    "id": "Cgea0X8Nodot"
   },
   "outputs": [],
   "source": [
    "# removing special characters and stop words from the text\n",
    "stop_words_l=stopwords.words('english')\n",
    "documents_df['documents_cleaned']=documents_df.documents.apply(lambda x: \" \".join(re.sub(r'[^a-zA-Z]',' ',w).lower() for w in x.split() if re.sub(r'[^a-zA-Z]',' ',w).lower() not in stop_words_l) )\n"
   ]
  },
  {
   "cell_type": "markdown",
   "metadata": {
    "colab_type": "text",
    "id": "M6cklpWTodow"
   },
   "source": [
    "#### Tf-idf vectors"
   ]
  },
  {
   "cell_type": "code",
   "execution_count": 7,
   "metadata": {
    "colab": {},
    "colab_type": "code",
    "id": "QKIsEwYYodow"
   },
   "outputs": [],
   "source": [
    "tfidfvectoriser=TfidfVectorizer(max_features=10)\n",
    "tfidfvectoriser.fit(documents_df.documents_cleaned)\n",
    "tfidf_vectors=tfidfvectoriser.transform(documents_df.documents_cleaned)"
   ]
  },
  {
   "cell_type": "code",
   "execution_count": 8,
   "metadata": {},
   "outputs": [
    {
     "data": {
      "text/plain": [
       "<7x10 sparse matrix of type '<class 'numpy.float64'>'\n",
       "\twith 49 stored elements in Compressed Sparse Row format>"
      ]
     },
     "execution_count": 8,
     "metadata": {},
     "output_type": "execute_result"
    }
   ],
   "source": [
    "tfidf_vectors"
   ]
  },
  {
   "cell_type": "code",
   "execution_count": 9,
   "metadata": {
    "colab": {},
    "colab_type": "code",
    "id": "uHOrtNQQodoz",
    "outputId": "0807c38d-7fa8-400e-bda8-fdcddb36eb92"
   },
   "outputs": [
    {
     "data": {
      "text/plain": [
       "(7, 10)"
      ]
     },
     "execution_count": 9,
     "metadata": {},
     "output_type": "execute_result"
    }
   ],
   "source": [
    "tfidf_vectors.shape"
   ]
  },
  {
   "cell_type": "code",
   "execution_count": 10,
   "metadata": {},
   "outputs": [],
   "source": [
    "# Every vector is already normalised to have unit L2 norm\n",
    "# np.linalg.norm(tfidf_vectors[0],ord=2)"
   ]
  },
  {
   "cell_type": "code",
   "execution_count": 11,
   "metadata": {
    "colab": {},
    "colab_type": "code",
    "id": "0ZfJLWirodo2",
    "outputId": "2c9fe5a4-aaf4-4e8b-cdb0-9080a65bbfeb"
   },
   "outputs": [
    {
     "name": "stdout",
     "output_type": "stream",
     "text": [
      "[0.         0.         0.98766449 0.15022697 0.         0.\n",
      " 0.         0.         0.04416684 0.        ]\n"
     ]
    }
   ],
   "source": [
    "tfidf_vectors=tfidf_vectors.toarray()\n",
    "print (tfidf_vectors[0])"
   ]
  },
  {
   "cell_type": "code",
   "execution_count": 12,
   "metadata": {},
   "outputs": [],
   "source": [
    "df_test=pd.DataFrame(tfidf_vectors)"
   ]
  },
  {
   "cell_type": "code",
   "execution_count": 13,
   "metadata": {
    "colab": {},
    "colab_type": "code",
    "id": "1GFWHXK1odo5"
   },
   "outputs": [],
   "source": [
    "pairwise_similarities=np.dot(tfidf_vectors,tfidf_vectors.T)\n",
    "pairwise_differences=euclidean_distances(tfidf_vectors)"
   ]
  },
  {
   "cell_type": "code",
   "execution_count": 14,
   "metadata": {},
   "outputs": [
    {
     "data": {
      "text/plain": [
       "array([[1.        , 0.78445161, 0.3153716 , 0.76956347, 0.40144105,\n",
       "        0.36383178, 0.06762463],\n",
       "       [0.78445161, 1.        , 0.68687421, 0.87307498, 0.62706571,\n",
       "        0.586008  , 0.28142564],\n",
       "       [0.3153716 , 0.68687421, 1.        , 0.78907769, 0.44723207,\n",
       "        0.42064903, 0.44448434],\n",
       "       [0.76956347, 0.87307498, 0.78907769, 1.        , 0.63945006,\n",
       "        0.60499349, 0.34219945],\n",
       "       [0.40144105, 0.62706571, 0.44723207, 0.63945006, 1.        ,\n",
       "        0.99774927, 0.19149623],\n",
       "       [0.36383178, 0.586008  , 0.42064903, 0.60499349, 0.99774927,\n",
       "        1.        , 0.18316635],\n",
       "       [0.06762463, 0.28142564, 0.44448434, 0.34219945, 0.19149623,\n",
       "        0.18316635, 1.        ]])"
      ]
     },
     "execution_count": 14,
     "metadata": {},
     "output_type": "execute_result"
    }
   ],
   "source": [
    "pairwise_similarities"
   ]
  },
  {
   "cell_type": "code",
   "execution_count": 15,
   "metadata": {
    "colab": {
     "base_uri": "https://localhost:8080/",
     "height": 238
    },
    "colab_type": "code",
    "id": "zOFiIAfRodo7",
    "outputId": "f5445de6-0a9e-4f84-b79f-95d87b7f177a"
   },
   "outputs": [
    {
     "name": "stdout",
     "output_type": "stream",
     "text": [
      "[0.         0.         0.98766449 0.15022697 0.         0.\n",
      " 0.         0.         0.04416684 0.        ]\n",
      "(7, 7)\n",
      "[1.         0.78445161 0.3153716  0.76956347 0.40144105 0.36383178\n",
      " 0.06762463]\n"
     ]
    }
   ],
   "source": [
    "print (tfidf_vectors[0])\n",
    "print (pairwise_similarities.shape)\n",
    "print (pairwise_similarities[0][:])"
   ]
  },
  {
   "cell_type": "code",
   "execution_count": 16,
   "metadata": {},
   "outputs": [],
   "source": [
    "output=pairwise_similarities[0][:]\n"
   ]
  },
  {
   "cell_type": "code",
   "execution_count": 20,
   "metadata": {},
   "outputs": [],
   "source": [
    "final_output=pd.DataFrame(output,resumes,columns=['Resume Score'])"
   ]
  },
  {
   "cell_type": "code",
   "execution_count": 22,
   "metadata": {},
   "outputs": [],
   "source": [
    "final_output.drop(final_output.head(1).index, inplace=True)"
   ]
  },
  {
   "cell_type": "code",
   "execution_count": 26,
   "metadata": {},
   "outputs": [
    {
     "data": {
      "text/html": [
       "<div>\n",
       "<style scoped>\n",
       "    .dataframe tbody tr th:only-of-type {\n",
       "        vertical-align: middle;\n",
       "    }\n",
       "\n",
       "    .dataframe tbody tr th {\n",
       "        vertical-align: top;\n",
       "    }\n",
       "\n",
       "    .dataframe thead th {\n",
       "        text-align: right;\n",
       "    }\n",
       "</style>\n",
       "<table border=\"1\" class=\"dataframe\">\n",
       "  <thead>\n",
       "    <tr style=\"text-align: right;\">\n",
       "      <th></th>\n",
       "      <th>Resume Score</th>\n",
       "    </tr>\n",
       "  </thead>\n",
       "  <tbody>\n",
       "    <tr>\n",
       "      <th>Zehai (Steve)Wang</th>\n",
       "      <td>0.784452</td>\n",
       "    </tr>\n",
       "    <tr>\n",
       "      <th>Jay Bakshi</th>\n",
       "      <td>0.769563</td>\n",
       "    </tr>\n",
       "    <tr>\n",
       "      <th>Aman</th>\n",
       "      <td>0.401441</td>\n",
       "    </tr>\n",
       "    <tr>\n",
       "      <th>Raman</th>\n",
       "      <td>0.363832</td>\n",
       "    </tr>\n",
       "    <tr>\n",
       "      <th>MILI SHAH</th>\n",
       "      <td>0.315372</td>\n",
       "    </tr>\n",
       "    <tr>\n",
       "      <th>PM_Resume</th>\n",
       "      <td>0.067625</td>\n",
       "    </tr>\n",
       "  </tbody>\n",
       "</table>\n",
       "</div>"
      ],
      "text/plain": [
       "                   Resume Score\n",
       "Zehai (Steve)Wang  0.784452    \n",
       "Jay Bakshi         0.769563    \n",
       "Aman               0.401441    \n",
       "Raman              0.363832    \n",
       "MILI SHAH          0.315372    \n",
       "PM_Resume          0.067625    "
      ]
     },
     "execution_count": 26,
     "metadata": {},
     "output_type": "execute_result"
    }
   ],
   "source": [
    "final_output.sort_values('Resume Score',ascending=False)"
   ]
  }
 ],
 "metadata": {
  "colab": {
   "collapsed_sections": [
    "J3H7zfoTodpF",
    "L7oG1uuGodpp"
   ],
   "name": "Document Similarities.ipynb",
   "provenance": []
  },
  "kernelspec": {
   "display_name": "Python 3",
   "language": "python",
   "name": "python3"
  },
  "language_info": {
   "codemirror_mode": {
    "name": "ipython",
    "version": 3
   },
   "file_extension": ".py",
   "mimetype": "text/x-python",
   "name": "python",
   "nbconvert_exporter": "python",
   "pygments_lexer": "ipython3",
   "version": "3.8.5"
  }
 },
 "nbformat": 4,
 "nbformat_minor": 4
}
